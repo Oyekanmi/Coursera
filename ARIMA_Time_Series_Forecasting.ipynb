{
  "nbformat": 4,
  "nbformat_minor": 0,
  "metadata": {
    "kernelspec": {
      "display_name": "Python 3",
      "language": "python",
      "name": "python3"
    },
    "language_info": {
      "codemirror_mode": {
        "name": "ipython",
        "version": 3
      },
      "file_extension": ".py",
      "mimetype": "text/x-python",
      "name": "python",
      "nbconvert_exporter": "python",
      "pygments_lexer": "ipython3",
      "version": "3.7.1"
    },
    "colab": {
      "name": "ARIMA- Time_Series_Forecasting.ipynb",
      "provenance": [],
      "toc_visible": true,
      "include_colab_link": true
    }
  },
  "cells": [
    {
      "cell_type": "markdown",
      "metadata": {
        "id": "view-in-github",
        "colab_type": "text"
      },
      "source": [
        "<a href=\"https://colab.research.google.com/github/Oyekanmi/Coursera_Capstone/blob/master/ARIMA_Time_Series_Forecasting.ipynb\" target=\"_parent\"><img src=\"https://colab.research.google.com/assets/colab-badge.svg\" alt=\"Open In Colab\"/></a>"
      ]
    },
    {
      "cell_type": "code",
      "metadata": {
        "id": "cHTMzfMfshz_",
        "colab_type": "code",
        "colab": {}
      },
      "source": [
        "#import libraries\n",
        "import pandas as pd\n",
        "import numpy as np\n",
        "import matplotlib.pyplot as plt\n",
        "from pandas import datetime\n"
      ],
      "execution_count": 1,
      "outputs": []
    },
    {
      "cell_type": "code",
      "metadata": {
        "id": "TxaxYk8-sh0W",
        "colab_type": "code",
        "colab": {}
      },
      "source": [
        "#Convert the month column from 'string' to datetime \n",
        "# define a parser fxtn \n",
        "def parser(x):\n",
        "    return datetime.strptime(x, '%Y-%m')"
      ],
      "execution_count": 5,
      "outputs": []
    },
    {
      "cell_type": "code",
      "metadata": {
        "id": "B3PkKrBush0c",
        "colab_type": "code",
        "colab": {
          "base_uri": "https://localhost:8080/",
          "height": 71
        },
        "outputId": "786c8ed6-8adc-4011-bd1b-0c26889c94d9"
      },
      "source": [
        "# REDUNDANT CELL : Just included for explanation\n",
        "# Also use date column as index by passing parameter , index_col=0\n",
        "#Use parse_date to tell the date colum position\n",
        "Car_Sales = pd.read_csv(\"sales-cars.csv\",index_col=0, parse_dates=[0],date_parser=parser)"
      ],
      "execution_count": 7,
      "outputs": [
        {
          "output_type": "stream",
          "text": [
            "/usr/local/lib/python3.6/dist-packages/ipykernel_launcher.py:4: FutureWarning: The pandas.datetime class is deprecated and will be removed from pandas in a future version. Import from datetime instead.\n",
            "  after removing the cwd from sys.path.\n"
          ],
          "name": "stderr"
        }
      ]
    },
    {
      "cell_type": "code",
      "metadata": {
        "id": "9v-gdmDfsh0h",
        "colab_type": "code",
        "colab": {
          "base_uri": "https://localhost:8080/",
          "height": 235
        },
        "outputId": "2610ce83-b8a7-471f-c958-2031782c37cb"
      },
      "source": [
        "# Print the first five rows\n",
        "Car_Sales.head()"
      ],
      "execution_count": 8,
      "outputs": [
        {
          "output_type": "execute_result",
          "data": {
            "text/html": [
              "<div>\n",
              "<style scoped>\n",
              "    .dataframe tbody tr th:only-of-type {\n",
              "        vertical-align: middle;\n",
              "    }\n",
              "\n",
              "    .dataframe tbody tr th {\n",
              "        vertical-align: top;\n",
              "    }\n",
              "\n",
              "    .dataframe thead th {\n",
              "        text-align: right;\n",
              "    }\n",
              "</style>\n",
              "<table border=\"1\" class=\"dataframe\">\n",
              "  <thead>\n",
              "    <tr style=\"text-align: right;\">\n",
              "      <th></th>\n",
              "      <th>Sales</th>\n",
              "    </tr>\n",
              "    <tr>\n",
              "      <th>Month</th>\n",
              "      <th></th>\n",
              "    </tr>\n",
              "  </thead>\n",
              "  <tbody>\n",
              "    <tr>\n",
              "      <th>2016-01-01</th>\n",
              "      <td>266</td>\n",
              "    </tr>\n",
              "    <tr>\n",
              "      <th>2016-02-01</th>\n",
              "      <td>146</td>\n",
              "    </tr>\n",
              "    <tr>\n",
              "      <th>2016-03-01</th>\n",
              "      <td>183</td>\n",
              "    </tr>\n",
              "    <tr>\n",
              "      <th>2016-04-01</th>\n",
              "      <td>119</td>\n",
              "    </tr>\n",
              "    <tr>\n",
              "      <th>2016-05-01</th>\n",
              "      <td>180</td>\n",
              "    </tr>\n",
              "  </tbody>\n",
              "</table>\n",
              "</div>"
            ],
            "text/plain": [
              "            Sales\n",
              "Month            \n",
              "2016-01-01    266\n",
              "2016-02-01    146\n",
              "2016-03-01    183\n",
              "2016-04-01    119\n",
              "2016-05-01    180"
            ]
          },
          "metadata": {
            "tags": []
          },
          "execution_count": 8
        }
      ]
    },
    {
      "cell_type": "code",
      "metadata": {
        "id": "dJy7f7vxsh0n",
        "colab_type": "code",
        "colab": {
          "base_uri": "https://localhost:8080/",
          "height": 417
        },
        "outputId": "1a15c214-7d01-4829-a1c7-92842119f2c1"
      },
      "source": [
        "# plot the data\n",
        "Car_Sales.plot(figsize= (12,6))"
      ],
      "execution_count": 10,
      "outputs": [
        {
          "output_type": "execute_result",
          "data": {
            "text/plain": [
              "<matplotlib.axes._subplots.AxesSubplot at 0x7f9c9810c400>"
            ]
          },
          "metadata": {
            "tags": []
          },
          "execution_count": 10
        },
        {
          "output_type": "display_data",
          "data": {
            "image/png": "[encoded data removed]",
            "text/plain": [
              "<Figure size 864x432 with 1 Axes>"
            ]
          },
          "metadata": {
            "tags": [],
            "needs_background": "light"
          }
        }
      ]
    },
    {
      "cell_type": "markdown",
      "metadata": {
        "id": "XpzJF4v_sh0u",
        "colab_type": "text"
      },
      "source": [
        "## Is the Series Stationary ? How do we test for stationarity ?"
      ]
    },
    {
      "cell_type": "markdown",
      "metadata": {
        "id": "w2F4PSmxsh0v",
        "colab_type": "text"
      },
      "source": [
        "### We can test using the ACF plot : Autocorrelation fuction plot"
      ]
    },
    {
      "cell_type": "code",
      "metadata": {
        "id": "Ac1ytk8ush0w",
        "colab_type": "code",
        "colab": {},
        "outputId": "3aad7ec9-4b6d-4636-b13b-0c39e48c08af"
      },
      "source": [
        "#import library\n",
        "from statsmodels.graphics.tsaplots import plot_acf\n",
        "plot_acf(Car_Sales)"
      ],
      "execution_count": null,
      "outputs": [
        {
          "output_type": "execute_result",
          "data": {
            "image/png": "[encoded data removed]",
            "text/plain": [
              "<Figure size 432x288 with 1 Axes>"
            ]
          },
          "metadata": {
            "tags": []
          },
          "execution_count": 30
        },
        {
          "output_type": "display_data",
          "data": {
            "image/png": "[encoded data removed]",
            "text/plain": [
              "<Figure size 432x288 with 1 Axes>"
            ]
          },
          "metadata": {
            "tags": [],
            "needs_background": "light"
          }
        }
      ]
    },
    {
      "cell_type": "code",
      "metadata": {
        "id": "bT3aqpUNsh04",
        "colab_type": "code",
        "colab": {}
      },
      "source": [
        "# Result shows that the correlation between the series over a period of time changes i.e. not stationary\n",
        "# For example, the line on 1 represent the correlation between 'Car_Sales' and 'Car_Sales.shift(1) i.e. Shifted by 1 or 1 time lag'"
      ],
      "execution_count": null,
      "outputs": []
    },
    {
      "cell_type": "code",
      "metadata": {
        "id": "s_BLRQTosh1A",
        "colab_type": "code",
        "colab": {},
        "outputId": "b3237217-350b-4e2e-d3eb-d6733abac0c6"
      },
      "source": [
        "# Check the stationarity of the data i.e check if the mean, variance or covariance is constant over time\n",
        "# We can see that the mean increases over time meaning that it is not stationary \n",
        "# Converting series to stationary\n",
        "# Tae a difference of the series\n",
        "Car_Sales.head()"
      ],
      "execution_count": null,
      "outputs": [
        {
          "output_type": "execute_result",
          "data": {
            "text/html": [
              "<div>\n",
              "<style scoped>\n",
              "    .dataframe tbody tr th:only-of-type {\n",
              "        vertical-align: middle;\n",
              "    }\n",
              "\n",
              "    .dataframe tbody tr th {\n",
              "        vertical-align: top;\n",
              "    }\n",
              "\n",
              "    .dataframe thead th {\n",
              "        text-align: right;\n",
              "    }\n",
              "</style>\n",
              "<table border=\"1\" class=\"dataframe\">\n",
              "  <thead>\n",
              "    <tr style=\"text-align: right;\">\n",
              "      <th></th>\n",
              "      <th>Sales</th>\n",
              "    </tr>\n",
              "    <tr>\n",
              "      <th>Month</th>\n",
              "      <th></th>\n",
              "    </tr>\n",
              "  </thead>\n",
              "  <tbody>\n",
              "    <tr>\n",
              "      <th>2016-01-01</th>\n",
              "      <td>266</td>\n",
              "    </tr>\n",
              "    <tr>\n",
              "      <th>2016-02-01</th>\n",
              "      <td>146</td>\n",
              "    </tr>\n",
              "    <tr>\n",
              "      <th>2016-03-01</th>\n",
              "      <td>183</td>\n",
              "    </tr>\n",
              "    <tr>\n",
              "      <th>2016-04-01</th>\n",
              "      <td>119</td>\n",
              "    </tr>\n",
              "    <tr>\n",
              "      <th>2016-05-01</th>\n",
              "      <td>180</td>\n",
              "    </tr>\n",
              "  </tbody>\n",
              "</table>\n",
              "</div>"
            ],
            "text/plain": [
              "            Sales\n",
              "Month            \n",
              "2016-01-01    266\n",
              "2016-02-01    146\n",
              "2016-03-01    183\n",
              "2016-04-01    119\n",
              "2016-05-01    180"
            ]
          },
          "metadata": {
            "tags": []
          },
          "execution_count": 26
        }
      ]
    },
    {
      "cell_type": "code",
      "metadata": {
        "id": "GV7A_Q2Zsh1H",
        "colab_type": "code",
        "colab": {},
        "outputId": "6ad67932-fa4c-46fb-aced-de1268573600"
      },
      "source": [
        "# find the One time period difference or integrated of Order 1, typically denoted by d one of the parameter of ARIMA model\n",
        "Car_Sales_diff = Car_Sales.diff(periods=1)\n",
        "Car_Sales_diff.head()"
      ],
      "execution_count": null,
      "outputs": [
        {
          "output_type": "execute_result",
          "data": {
            "text/html": [
              "<div>\n",
              "<style scoped>\n",
              "    .dataframe tbody tr th:only-of-type {\n",
              "        vertical-align: middle;\n",
              "    }\n",
              "\n",
              "    .dataframe tbody tr th {\n",
              "        vertical-align: top;\n",
              "    }\n",
              "\n",
              "    .dataframe thead th {\n",
              "        text-align: right;\n",
              "    }\n",
              "</style>\n",
              "<table border=\"1\" class=\"dataframe\">\n",
              "  <thead>\n",
              "    <tr style=\"text-align: right;\">\n",
              "      <th></th>\n",
              "      <th>Sales</th>\n",
              "    </tr>\n",
              "    <tr>\n",
              "      <th>Month</th>\n",
              "      <th></th>\n",
              "    </tr>\n",
              "  </thead>\n",
              "  <tbody>\n",
              "    <tr>\n",
              "      <th>2016-01-01</th>\n",
              "      <td>NaN</td>\n",
              "    </tr>\n",
              "    <tr>\n",
              "      <th>2016-02-01</th>\n",
              "      <td>-120.0</td>\n",
              "    </tr>\n",
              "    <tr>\n",
              "      <th>2016-03-01</th>\n",
              "      <td>37.0</td>\n",
              "    </tr>\n",
              "    <tr>\n",
              "      <th>2016-04-01</th>\n",
              "      <td>-64.0</td>\n",
              "    </tr>\n",
              "    <tr>\n",
              "      <th>2016-05-01</th>\n",
              "      <td>61.0</td>\n",
              "    </tr>\n",
              "  </tbody>\n",
              "</table>\n",
              "</div>"
            ],
            "text/plain": [
              "            Sales\n",
              "Month            \n",
              "2016-01-01    NaN\n",
              "2016-02-01 -120.0\n",
              "2016-03-01   37.0\n",
              "2016-04-01  -64.0\n",
              "2016-05-01   61.0"
            ]
          },
          "metadata": {
            "tags": []
          },
          "execution_count": 28
        }
      ]
    },
    {
      "cell_type": "code",
      "metadata": {
        "id": "V6pCht58sh1P",
        "colab_type": "code",
        "colab": {},
        "outputId": "7fea3d37-1cc7-489c-d05d-53400d6ccee9"
      },
      "source": [
        "# Remove the NaN under Sales\n",
        "Car_Sales_diff= Car_Sales_diff[1:]\n",
        "Car_Sales_diff.head()"
      ],
      "execution_count": null,
      "outputs": [
        {
          "output_type": "execute_result",
          "data": {
            "text/html": [
              "<div>\n",
              "<style scoped>\n",
              "    .dataframe tbody tr th:only-of-type {\n",
              "        vertical-align: middle;\n",
              "    }\n",
              "\n",
              "    .dataframe tbody tr th {\n",
              "        vertical-align: top;\n",
              "    }\n",
              "\n",
              "    .dataframe thead th {\n",
              "        text-align: right;\n",
              "    }\n",
              "</style>\n",
              "<table border=\"1\" class=\"dataframe\">\n",
              "  <thead>\n",
              "    <tr style=\"text-align: right;\">\n",
              "      <th></th>\n",
              "      <th>Sales</th>\n",
              "    </tr>\n",
              "    <tr>\n",
              "      <th>Month</th>\n",
              "      <th></th>\n",
              "    </tr>\n",
              "  </thead>\n",
              "  <tbody>\n",
              "    <tr>\n",
              "      <th>2016-02-01</th>\n",
              "      <td>-120.0</td>\n",
              "    </tr>\n",
              "    <tr>\n",
              "      <th>2016-03-01</th>\n",
              "      <td>37.0</td>\n",
              "    </tr>\n",
              "    <tr>\n",
              "      <th>2016-04-01</th>\n",
              "      <td>-64.0</td>\n",
              "    </tr>\n",
              "    <tr>\n",
              "      <th>2016-05-01</th>\n",
              "      <td>61.0</td>\n",
              "    </tr>\n",
              "    <tr>\n",
              "      <th>2016-06-01</th>\n",
              "      <td>-11.0</td>\n",
              "    </tr>\n",
              "  </tbody>\n",
              "</table>\n",
              "</div>"
            ],
            "text/plain": [
              "            Sales\n",
              "Month            \n",
              "2016-02-01 -120.0\n",
              "2016-03-01   37.0\n",
              "2016-04-01  -64.0\n",
              "2016-05-01   61.0\n",
              "2016-06-01  -11.0"
            ]
          },
          "metadata": {
            "tags": []
          },
          "execution_count": 29
        }
      ]
    },
    {
      "cell_type": "code",
      "metadata": {
        "id": "b1zmrEAnsh1W",
        "colab_type": "code",
        "colab": {},
        "outputId": "e71acd12-6a61-4098-8b73-5c2ae50cb481"
      },
      "source": [
        "# Let's check if the difference function is stationary using the autocorrelation plot\n",
        "plot_acf(Car_Sales_diff)"
      ],
      "execution_count": null,
      "outputs": [
        {
          "output_type": "execute_result",
          "data": {
            "image/png": "[encoded data removed]",
            "text/plain": [
              "<Figure size 432x288 with 1 Axes>"
            ]
          },
          "metadata": {
            "tags": []
          },
          "execution_count": 33
        },
        {
          "output_type": "display_data",
          "data": {
            "image/png": "[encoded data removed]",
            "text/plain": [
              "<Figure size 432x288 with 1 Axes>"
            ]
          },
          "metadata": {
            "tags": [],
            "needs_background": "light"
          }
        }
      ]
    },
    {
      "cell_type": "code",
      "metadata": {
        "id": "xpqE8R0_sh1k",
        "colab_type": "code",
        "colab": {},
        "outputId": "d4de0746-0756-4218-abec-0f0da7be06a9"
      },
      "source": [
        "# We can see that the series is stationary. We can plot the 'Car_Sales_diff' series data to visulaize the series\n",
        "Car_Sales_diff.plot()"
      ],
      "execution_count": null,
      "outputs": [
        {
          "output_type": "execute_result",
          "data": {
            "text/plain": [
              "<matplotlib.axes._subplots.AxesSubplot at 0x2916417b160>"
            ]
          },
          "metadata": {
            "tags": []
          },
          "execution_count": 34
        },
        {
          "output_type": "display_data",
          "data": {
            "image/png": "[encoded data removed]",
            "text/plain": [
              "<Figure size 432x288 with 1 Axes>"
            ]
          },
          "metadata": {
            "tags": [],
            "needs_background": "light"
          }
        }
      ]
    },
    {
      "cell_type": "code",
      "metadata": {
        "id": "et26w-D-sh1o",
        "colab_type": "code",
        "colab": {},
        "outputId": "303154ed-1f98-4733-e56a-0c1f6c20b5f2"
      },
      "source": [
        "# Divide the data into training and testing data\n",
        "X = Car_Sales.values\n",
        "X.size"
      ],
      "execution_count": null,
      "outputs": [
        {
          "output_type": "execute_result",
          "data": {
            "text/plain": [
              "36"
            ]
          },
          "metadata": {
            "tags": []
          },
          "execution_count": 37
        }
      ]
    },
    {
      "cell_type": "code",
      "metadata": {
        "id": "Td90ZTs3sh1t",
        "colab_type": "code",
        "colab": {},
        "outputId": "2d5398b8-4a63-47c6-b631-e224b08bdb42"
      },
      "source": [
        "# Since we have 36 dataset, let's use 80% as train and 20% as test \n",
        "# 80% is 27 , 20% is 9\n",
        "train = X[0:27]\n",
        "test= X[27:]\n",
        "predictions=[]\n",
        "print (' we have' ,train.size,'training dataset and ',test.size,' testing dataset')"
      ],
      "execution_count": null,
      "outputs": [
        {
          "output_type": "stream",
          "text": [
            " we have 27 training dataset and  9  testing dataset\n"
          ],
          "name": "stdout"
        }
      ]
    },
    {
      "cell_type": "markdown",
      "metadata": {
        "id": "rJeOcriwsh1x",
        "colab_type": "text"
      },
      "source": [
        "### Autoregression AR Model"
      ]
    },
    {
      "cell_type": "code",
      "metadata": {
        "id": "GmVQnChMsh1x",
        "colab_type": "code",
        "colab": {}
      },
      "source": [
        "#import autoregression fxtn\n",
        "from statsmodels.tsa.ar_model import AR\n",
        "from sklearn.metrics import mean_squared_error\n",
        "model_ar = AR(train)\n",
        "#Fit model\n",
        "model_ar_fit = model_ar.fit()"
      ],
      "execution_count": null,
      "outputs": []
    },
    {
      "cell_type": "code",
      "metadata": {
        "id": "4A7w8Qehsh12",
        "colab_type": "code",
        "colab": {}
      },
      "source": [
        "# predicted sales \n",
        "predictions = model_ar_fit.predict(start=27, end=36)"
      ],
      "execution_count": null,
      "outputs": []
    },
    {
      "cell_type": "code",
      "metadata": {
        "id": "2JwCGzqgsh19",
        "colab_type": "code",
        "colab": {},
        "outputId": "78b4d275-c898-44a1-f4d9-af5161a92d47"
      },
      "source": [
        "#Actual sales\n",
        "test"
      ],
      "execution_count": null,
      "outputs": [
        {
          "output_type": "execute_result",
          "data": {
            "text/plain": [
              "array([[439],\n",
              "       [401],\n",
              "       [390],\n",
              "       [490],\n",
              "       [408],\n",
              "       [490],\n",
              "       [420],\n",
              "       [520],\n",
              "       [480]], dtype=int64)"
            ]
          },
          "metadata": {
            "tags": []
          },
          "execution_count": 43
        }
      ]
    },
    {
      "cell_type": "code",
      "metadata": {
        "id": "WSSJE9fTsh2B",
        "colab_type": "code",
        "colab": {},
        "outputId": "7013c78a-c52f-4e08-9df6-1d484aa480c5"
      },
      "source": [
        "# Plot values to visualize and compare the two data\n",
        "plt.plot(predictions)\n",
        "plt.plot(test, color ='red')"
      ],
      "execution_count": null,
      "outputs": [
        {
          "output_type": "execute_result",
          "data": {
            "text/plain": [
              "[<matplotlib.lines.Line2D at 0x29164b974a8>]"
            ]
          },
          "metadata": {
            "tags": []
          },
          "execution_count": 50
        },
        {
          "output_type": "display_data",
          "data": {
            "image/png": "[encoded data removed]",
            "text/plain": [
              "<Figure size 432x288 with 1 Axes>"
            ]
          },
          "metadata": {
            "tags": [],
            "needs_background": "light"
          }
        }
      ]
    },
    {
      "cell_type": "markdown",
      "metadata": {
        "id": "14FjCRoXsh2E",
        "colab_type": "text"
      },
      "source": [
        "### ARIMA model"
      ]
    },
    {
      "cell_type": "code",
      "metadata": {
        "id": "hRxy52HUsh2F",
        "colab_type": "code",
        "colab": {}
      },
      "source": [
        "from statsmodels.tsa.arima_model import ARIMA"
      ],
      "execution_count": null,
      "outputs": []
    },
    {
      "cell_type": "code",
      "metadata": {
        "id": "U8w7W1QEsh2I",
        "colab_type": "code",
        "colab": {},
        "outputId": "dd640cc6-8427-404e-9bac-5c8fa456b12c"
      },
      "source": [
        "#Train the model\n",
        "#Specify parameters p, d & q : p-periods taken for autoregressive model\n",
        "# d - integration order and q - periods in moving average model\n",
        "Model_Arima = ARIMA(train, order=(3,1,0))\n",
        "# Fit the model\n",
        "Model_Arima_fit = Model_Arima.fit()\n",
        "print(Model_Arima_fit.aic)"
      ],
      "execution_count": null,
      "outputs": [
        {
          "output_type": "stream",
          "text": [
            "294.854358421861\n"
          ],
          "name": "stdout"
        }
      ]
    },
    {
      "cell_type": "code",
      "metadata": {
        "id": "uNlsmtJ2sh2L",
        "colab_type": "code",
        "colab": {},
        "outputId": "7a765484-3fe5-49ef-b530-8f5151aceb90"
      },
      "source": [
        "# Make predictions\n",
        "Predictions= Model_Arima_fit.forecast(steps=9)[0] # steps =9 means we want to predict 9 values Note: We use forecast in ARIMA\n",
        "Predictions\n"
      ],
      "execution_count": null,
      "outputs": [
        {
          "output_type": "execute_result",
          "data": {
            "text/plain": [
              "array([393.12492251, 367.08451761, 432.19170447, 370.18118463,\n",
              "       424.07802656, 400.33344669, 444.76777064, 412.5415241 ,\n",
              "       450.35924021])"
            ]
          },
          "metadata": {
            "tags": []
          },
          "execution_count": 127
        }
      ]
    },
    {
      "cell_type": "code",
      "metadata": {
        "id": "_xvfpFPxsh2P",
        "colab_type": "code",
        "colab": {},
        "outputId": "2d3aeb7d-2e94-4d3d-88ed-a4fc90046968"
      },
      "source": [
        "# Plot the forecated values versus the actual values \n",
        "plt.plot(test)\n",
        "plt.plot(Predictions, color='red')"
      ],
      "execution_count": null,
      "outputs": [
        {
          "output_type": "execute_result",
          "data": {
            "text/plain": [
              "[<matplotlib.lines.Line2D at 0x291613a2e10>]"
            ]
          },
          "metadata": {
            "tags": []
          },
          "execution_count": 128
        },
        {
          "output_type": "display_data",
          "data": {
            "image/png": "[encoded data removed]",
            "text/plain": [
              "<Figure size 432x288 with 1 Axes>"
            ]
          },
          "metadata": {
            "tags": [],
            "needs_background": "light"
          }
        }
      ]
    },
    {
      "cell_type": "code",
      "metadata": {
        "id": "2GFsxct4sh2S",
        "colab_type": "code",
        "colab": {},
        "outputId": "878dd5f2-73b9-45aa-dbc2-276d4624dec3"
      },
      "source": [
        "#Calculate the mean_squared_error\n",
        "mean_squared_error(test,Predictions)"
      ],
      "execution_count": null,
      "outputs": [
        {
          "output_type": "execute_result",
          "data": {
            "text/plain": [
              "4525.48955425146"
            ]
          },
          "metadata": {
            "tags": []
          },
          "execution_count": 129
        }
      ]
    },
    {
      "cell_type": "code",
      "metadata": {
        "id": "LKZId2Bvsh2Y",
        "colab_type": "code",
        "colab": {},
        "outputId": "6e863913-1622-4695-aadf-0db6a8c75c33"
      },
      "source": [
        "# How do we find the best fit parameters?\n",
        "# We use the AIC method : We need to use the model with the minimum AIC values , we can change the parameters in the ARIMA model\n",
        "# Alternatively,\n",
        "import itertools\n",
        "p=d=q=range(0,5)\n",
        "pdq = list(itertools.product(p,d,q))\n",
        "pdq"
      ],
      "execution_count": null,
      "outputs": [
        {
          "output_type": "execute_result",
          "data": {
            "text/plain": [
              "[(0, 0, 0),\n",
              " (0, 0, 1),\n",
              " (0, 0, 2),\n",
              " (0, 0, 3),\n",
              " (0, 0, 4),\n",
              " (0, 1, 0),\n",
              " (0, 1, 1),\n",
              " (0, 1, 2),\n",
              " (0, 1, 3),\n",
              " (0, 1, 4),\n",
              " (0, 2, 0),\n",
              " (0, 2, 1),\n",
              " (0, 2, 2),\n",
              " (0, 2, 3),\n",
              " (0, 2, 4),\n",
              " (0, 3, 0),\n",
              " (0, 3, 1),\n",
              " (0, 3, 2),\n",
              " (0, 3, 3),\n",
              " (0, 3, 4),\n",
              " (0, 4, 0),\n",
              " (0, 4, 1),\n",
              " (0, 4, 2),\n",
              " (0, 4, 3),\n",
              " (0, 4, 4),\n",
              " (1, 0, 0),\n",
              " (1, 0, 1),\n",
              " (1, 0, 2),\n",
              " (1, 0, 3),\n",
              " (1, 0, 4),\n",
              " (1, 1, 0),\n",
              " (1, 1, 1),\n",
              " (1, 1, 2),\n",
              " (1, 1, 3),\n",
              " (1, 1, 4),\n",
              " (1, 2, 0),\n",
              " (1, 2, 1),\n",
              " (1, 2, 2),\n",
              " (1, 2, 3),\n",
              " (1, 2, 4),\n",
              " (1, 3, 0),\n",
              " (1, 3, 1),\n",
              " (1, 3, 2),\n",
              " (1, 3, 3),\n",
              " (1, 3, 4),\n",
              " (1, 4, 0),\n",
              " (1, 4, 1),\n",
              " (1, 4, 2),\n",
              " (1, 4, 3),\n",
              " (1, 4, 4),\n",
              " (2, 0, 0),\n",
              " (2, 0, 1),\n",
              " (2, 0, 2),\n",
              " (2, 0, 3),\n",
              " (2, 0, 4),\n",
              " (2, 1, 0),\n",
              " (2, 1, 1),\n",
              " (2, 1, 2),\n",
              " (2, 1, 3),\n",
              " (2, 1, 4),\n",
              " (2, 2, 0),\n",
              " (2, 2, 1),\n",
              " (2, 2, 2),\n",
              " (2, 2, 3),\n",
              " (2, 2, 4),\n",
              " (2, 3, 0),\n",
              " (2, 3, 1),\n",
              " (2, 3, 2),\n",
              " (2, 3, 3),\n",
              " (2, 3, 4),\n",
              " (2, 4, 0),\n",
              " (2, 4, 1),\n",
              " (2, 4, 2),\n",
              " (2, 4, 3),\n",
              " (2, 4, 4),\n",
              " (3, 0, 0),\n",
              " (3, 0, 1),\n",
              " (3, 0, 2),\n",
              " (3, 0, 3),\n",
              " (3, 0, 4),\n",
              " (3, 1, 0),\n",
              " (3, 1, 1),\n",
              " (3, 1, 2),\n",
              " (3, 1, 3),\n",
              " (3, 1, 4),\n",
              " (3, 2, 0),\n",
              " (3, 2, 1),\n",
              " (3, 2, 2),\n",
              " (3, 2, 3),\n",
              " (3, 2, 4),\n",
              " (3, 3, 0),\n",
              " (3, 3, 1),\n",
              " (3, 3, 2),\n",
              " (3, 3, 3),\n",
              " (3, 3, 4),\n",
              " (3, 4, 0),\n",
              " (3, 4, 1),\n",
              " (3, 4, 2),\n",
              " (3, 4, 3),\n",
              " (3, 4, 4),\n",
              " (4, 0, 0),\n",
              " (4, 0, 1),\n",
              " (4, 0, 2),\n",
              " (4, 0, 3),\n",
              " (4, 0, 4),\n",
              " (4, 1, 0),\n",
              " (4, 1, 1),\n",
              " (4, 1, 2),\n",
              " (4, 1, 3),\n",
              " (4, 1, 4),\n",
              " (4, 2, 0),\n",
              " (4, 2, 1),\n",
              " (4, 2, 2),\n",
              " (4, 2, 3),\n",
              " (4, 2, 4),\n",
              " (4, 3, 0),\n",
              " (4, 3, 1),\n",
              " (4, 3, 2),\n",
              " (4, 3, 3),\n",
              " (4, 3, 4),\n",
              " (4, 4, 0),\n",
              " (4, 4, 1),\n",
              " (4, 4, 2),\n",
              " (4, 4, 3),\n",
              " (4, 4, 4)]"
            ]
          },
          "metadata": {
            "tags": []
          },
          "execution_count": 67
        }
      ]
    },
    {
      "cell_type": "code",
      "metadata": {
        "id": "i_l-fsi0sh2d",
        "colab_type": "code",
        "colab": {},
        "outputId": "f01ca337-9893-45fa-b228-e58b314e79a3"
      },
      "source": [
        "import warnings\n",
        "warnings.filterwarnings('ignore')\n",
        "for param in pdq:\n",
        "    try:\n",
        "        Model_Arima = ARIMA(train, order=param)\n",
        "        # Fit the model\n",
        "        Model_Arima_fit = Model_Arima.fit()\n",
        "        print(param,Model_Arima_fit.aic)\n",
        "    except:\n",
        "        continue"
      ],
      "execution_count": null,
      "outputs": [
        {
          "output_type": "stream",
          "text": [
            "(0, 0, 0) 319.45285852307086\n",
            "(0, 0, 1) 318.7244809384947\n",
            "(0, 0, 2) 315.2506002896649\n",
            "(0, 0, 3) 316.38342265642257\n",
            "(0, 0, 4) nan\n",
            "(0, 1, 0) 311.8293983488534\n",
            "(0, 1, 1) 296.0841530678005\n",
            "(0, 1, 2) 296.3229226907689\n",
            "(0, 2, 0) 329.1834958250828\n",
            "(0, 2, 1) 306.1019469685257\n",
            "(1, 0, 0) 316.16687175343054\n",
            "(1, 0, 2) 310.97906422264316\n",
            "(1, 1, 0) 298.8325442271006\n",
            "(1, 1, 1) 297.12565112584986\n",
            "(1, 1, 2) 299.4716667063295\n",
            "(1, 1, 3) 301.28511809477334\n",
            "(1, 1, 4) 299.97873239729927\n",
            "(1, 2, 0) 306.5307767571543\n",
            "(2, 0, 0) 310.99695736763897\n",
            "(2, 1, 0) 300.2089561239962\n",
            "(2, 1, 1) 297.99999301674126\n",
            "(2, 1, 2) 298.55054281302256\n",
            "(2, 1, 3) 302.87208243829116\n",
            "(2, 2, 0) 306.2975856432374\n",
            "(3, 0, 0) 312.98385874204837\n",
            "(3, 1, 0) 294.854358421861\n",
            "(3, 1, 1) 295.99793534183914\n",
            "(3, 1, 2) 292.6686238693939\n",
            "(3, 1, 3) 294.65889075168616\n",
            "(3, 2, 0) 299.407586815627\n",
            "(3, 2, 4) 291.275046839692\n",
            "(4, 0, 0) 311.07065620727724\n",
            "(4, 0, 1) 321.48502440112645\n",
            "(4, 1, 0) 295.93436313516304\n",
            "(4, 1, 1) 297.90988170603566\n",
            "(4, 1, 2) 294.6633610568727\n",
            "(4, 1, 3) 296.6455247144795\n",
            "(4, 2, 0) 296.5230072443229\n",
            "(4, 2, 1) 291.39913447173916\n",
            "(4, 2, 4) 292.53002901787085\n"
          ],
          "name": "stdout"
        }
      ]
    },
    {
      "cell_type": "code",
      "metadata": {
        "id": "qqgyeyWEsh2i",
        "colab_type": "code",
        "colab": {}
      },
      "source": [
        "# The mimimum combination is the (4,2,1)-291.39913447173916. We can use the paramter to find the optimized model"
      ],
      "execution_count": null,
      "outputs": []
    }
  ]
}